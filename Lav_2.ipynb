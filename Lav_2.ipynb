{
  "nbformat": 4,
  "nbformat_minor": 0,
  "metadata": {
    "colab": {
      "provenance": [],
      "authorship_tag": "ABX9TyMHcI7G4A6tcTLqle9ZzSfx",
      "include_colab_link": true
    },
    "kernelspec": {
      "name": "python3",
      "display_name": "Python 3"
    },
    "language_info": {
      "name": "python"
    }
  },
  "cells": [
    {
      "cell_type": "markdown",
      "metadata": {
        "id": "view-in-github",
        "colab_type": "text"
      },
      "source": [
        "<a href=\"https://colab.research.google.com/github/Rakib911Hossan/python-basics/blob/main/Lav_2.ipynb\" target=\"_parent\"><img src=\"https://colab.research.google.com/assets/colab-badge.svg\" alt=\"Open In Colab\"/></a>"
      ]
    },
    {
      "cell_type": "code",
      "execution_count": null,
      "metadata": {
        "colab": {
          "base_uri": "https://localhost:8080/"
        },
        "id": "qlV5zww7DD6C",
        "outputId": "850a6be3-c102-45ae-8e90-43760aa73815"
      },
      "outputs": [
        {
          "output_type": "stream",
          "name": "stdout",
          "text": [
            "6\n"
          ]
        }
      ],
      "source": [
        "x =2\n",
        "y =4\n",
        "sum =x+y\n",
        "print(sum)"
      ]
    },
    {
      "cell_type": "code",
      "source": [
        "x=4\n",
        "x = x + 3\n",
        "print(x)\n",
        "x = x - 3\n",
        "print(x)\n",
        "x = x / 3\n",
        "print(x)\n",
        "x = x * 3\n",
        "print(x)\n",
        "x = x % 3\n",
        "print(x)\n",
        "z = 5\n",
        "x = z^3\n",
        "print(x)\n",
        "x = x >> 3\n",
        "print(x)\n",
        "x = x <<3\n",
        "print(x)\n",
        "x = x + 3\n",
        "print(x)"
      ],
      "metadata": {
        "colab": {
          "base_uri": "https://localhost:8080/"
        },
        "id": "SCNxgsThDSBS",
        "outputId": "6ca6607d-737c-4137-ee5d-384d105a3c75"
      },
      "execution_count": null,
      "outputs": [
        {
          "output_type": "stream",
          "name": "stdout",
          "text": [
            "7\n",
            "4\n",
            "1.3333333333333333\n",
            "4.0\n",
            "1.0\n",
            "6\n",
            "0\n",
            "0\n",
            "3\n"
          ]
        }
      ]
    },
    {
      "cell_type": "code",
      "source": [
        "age =32\n",
        "y=7\n",
        "if(age>18):\n",
        "  print(\"eligible for vote\")\n",
        "else:\n",
        "  print(\"not eligible for vote\")\n",
        "print(x<y)\n",
        "print(x>y)\n",
        "print(x<=y)\n",
        "print(x>=y)\n",
        "print(x!=y)\n",
        "print(x==y)"
      ],
      "metadata": {
        "colab": {
          "base_uri": "https://localhost:8080/"
        },
        "id": "WxYiShGTDtdq",
        "outputId": "33d8e614-8494-4a26-8cbd-52640fba9739"
      },
      "execution_count": null,
      "outputs": [
        {
          "output_type": "stream",
          "name": "stdout",
          "text": [
            "eligible for vote\n",
            "False\n",
            "True\n",
            "False\n",
            "True\n",
            "True\n",
            "False\n"
          ]
        }
      ]
    },
    {
      "cell_type": "code",
      "source": [
        "x=66\n",
        "\n",
        "if(x>=40 and x<=49):\n",
        "   print(\"E\")\n",
        "elif(x>=50 and x<=59):\n",
        "   print(\"D\")\n",
        "elif(x>=60 and x<=69):\n",
        "   print(\"C\")\n",
        "elif(x>=70 and x<=74):\n",
        "   print(\"B\")\n",
        "elif(x>=75 and x<=79):\n",
        "   print(\"A\")\n",
        "else:\n",
        "   print(\"A+\")"
      ],
      "metadata": {
        "colab": {
          "base_uri": "https://localhost:8080/"
        },
        "id": "4165yvUOFdR-",
        "outputId": "53ac3e0e-d1ea-431a-8089-33d1cbf99ac2"
      },
      "execution_count": null,
      "outputs": [
        {
          "output_type": "stream",
          "name": "stdout",
          "text": [
            "C\n"
          ]
        }
      ]
    },
    {
      "cell_type": "code",
      "source": [
        "\n",
        "x=66\n",
        "\n",
        "\n",
        "print(\"E\") if(x>=40 and x<=49) else print(\"A+\")\n",
        "  #  print(\"E\")\n",
        "\n",
        "#    print(\"D\")\n",
        "# elif(x>=60 and x<=69):\n",
        "#    print(\"C\")\n",
        "# elif(x>=70 and x<=74):\n",
        "#    print(\"B\")\n",
        "# elif(x>=75 and x<=79):\n",
        "#    print(\"A\")\n",
        "\n"
      ],
      "metadata": {
        "colab": {
          "base_uri": "https://localhost:8080/"
        },
        "id": "Vsr_LsKIIuEZ",
        "outputId": "1c94929f-ef9f-45ec-a690-4004218fbb5c"
      },
      "execution_count": null,
      "outputs": [
        {
          "output_type": "stream",
          "name": "stdout",
          "text": [
            "A+\n"
          ]
        }
      ]
    },
    {
      "cell_type": "code",
      "source": [
        "# nested if\n",
        "x = 7\n",
        "\n",
        "\n",
        "if x > 40:\n",
        "    if x < 49:\n",
        "        print(\"E\")\n",
        "    else:\n",
        "        if x < 59:\n",
        "            print(\"D\")\n",
        "        else:\n",
        "            if x < 69:\n",
        "                print(\"C\")\n",
        "            else:\n",
        "                if x < 74:\n",
        "                    print(\"B\")\n",
        "                else:\n",
        "                    if x < 79:\n",
        "                        print(\"A\")\n",
        "                    else:\n",
        "                        print(\"A+\")\n",
        "else:\n",
        "    print(\"failed\")\n"
      ],
      "metadata": {
        "colab": {
          "base_uri": "https://localhost:8080/"
        },
        "id": "6iH9CFmeMwhz",
        "outputId": "68c028b0-1862-4f0a-c9aa-49f4720fd7bc"
      },
      "execution_count": null,
      "outputs": [
        {
          "output_type": "stream",
          "name": "stdout",
          "text": [
            "failed\n"
          ]
        }
      ]
    },
    {
      "cell_type": "code",
      "source": [],
      "metadata": {
        "id": "wPeSwommNOfy"
      },
      "execution_count": null,
      "outputs": []
    }
  ]
}