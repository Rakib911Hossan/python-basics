{
  "nbformat": 4,
  "nbformat_minor": 0,
  "metadata": {
    "colab": {
      "provenance": [],
      "authorship_tag": "ABX9TyMuLZQs/5E45BVqMayFR3SQ",
      "include_colab_link": true
    },
    "kernelspec": {
      "name": "python3",
      "display_name": "Python 3"
    },
    "language_info": {
      "name": "python"
    }
  },
  "cells": [
    {
      "cell_type": "markdown",
      "metadata": {
        "id": "view-in-github",
        "colab_type": "text"
      },
      "source": [
        "<a href=\"https://colab.research.google.com/github/Rakib911Hossan/python-basics/blob/main/CreateTuple.ipynb\" target=\"_parent\"><img src=\"https://colab.research.google.com/assets/colab-badge.svg\" alt=\"Open In Colab\"/></a>"
      ]
    },
    {
      "cell_type": "code",
      "execution_count": 1,
      "metadata": {
        "colab": {
          "base_uri": "https://localhost:8080/"
        },
        "id": "APFZ3pliTl20",
        "outputId": "73cece40-8d06-4a23-c5ba-97ab9846e358"
      },
      "outputs": [
        {
          "output_type": "stream",
          "name": "stdout",
          "text": [
            "[1, 'JUST', 2.5]\n",
            "('JUST', 2.5)\n",
            "[2]\n",
            "(2,)\n",
            "Element in tuple 1\n",
            "Element in tuple JUST\n",
            "Element in index 0 =1\n",
            "Element in index 1 =JUST\n",
            "Element in index 2 =2.5\n",
            "Length of tuple 3\n",
            "[1, 'JUST', 2.5, 'Jubayer']\n"
          ]
        }
      ],
      "source": [
        "myList=[1,\"JUST\",2.5]   #List\n",
        "print(myList)\n",
        "\n",
        "myTuple=(1,\"JUST\",2.5)  #Tuple\n",
        "print(myTuple[1:3]) #prints element from index 1 to 2\n",
        "\n",
        "list2=[2]   #list with single element\n",
        "print(list2)\n",
        "\n",
        "tuple2=(2)  #this is not a tuple. Just an int\n",
        "tuple2=(2,) #single element tuple should end with comma\n",
        "print(tuple2)\n",
        "\n",
        "#loop within tuple\n",
        "for i in myTuple[:2]:\n",
        "    print(\"Element in tuple\",i)\n",
        "# loop using range on tuple\n",
        "for i in range(3):\n",
        "    print(f\"Element in index {i} ={myTuple[i]}\")\n",
        "\n",
        "print(\"Length of tuple\",len(myTuple))\n",
        "\n",
        "myList.append(\"Jubayer\")\n",
        "print(myList)\n",
        "#myTuple.append(\"Jubayer\") xxtuple can't be changedxx\n",
        "\n"
      ]
    }
  ]
}