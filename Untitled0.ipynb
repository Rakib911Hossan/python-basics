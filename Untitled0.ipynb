{
  "nbformat": 4,
  "nbformat_minor": 0,
  "metadata": {
    "colab": {
      "provenance": [],
      "authorship_tag": "ABX9TyMKxf20fLTi2lQL9zWnYNqK",
      "include_colab_link": true
    },
    "kernelspec": {
      "name": "python3",
      "display_name": "Python 3"
    },
    "language_info": {
      "name": "python"
    }
  },
  "cells": [
    {
      "cell_type": "markdown",
      "metadata": {
        "id": "view-in-github",
        "colab_type": "text"
      },
      "source": [
        "<a href=\"https://colab.research.google.com/github/Rakib911Hossan/python-basics/blob/main/Untitled0.ipynb\" target=\"_parent\"><img src=\"https://colab.research.google.com/assets/colab-badge.svg\" alt=\"Open In Colab\"/></a>"
      ]
    },
    {
      "cell_type": "code",
      "execution_count": null,
      "metadata": {
        "id": "_UBAluauWh7V"
      },
      "outputs": [],
      "source": [
        "list creation\n",
        "list1=[\"University\",\"Dept\",\"Std Name\"]\n",
        "list2=[\"JUST\",\"CSE\",\"Jubayer\"]\n",
        "list3=[1,2,3]\n",
        "\n",
        "#Dictionary creation\n",
        "d1=dict(ind=list3,title=list1,info=list2)\n",
        "\n",
        "#Copying a dictionary into another dictionary\n",
        "d2=d1\n",
        "print(d2)\n",
        "\n",
        "#printing the values of a specific key\n",
        "for i in d1[\"info\"]:\n",
        "    print(i)\n",
        "\n",
        "#printing the whole dictionary\n",
        "for i in d1:\n",
        "    print(\"Key:\",i)\n",
        "    for j in range(3):\n",
        "        print(\"Value:\",d1[i][j])\n",
        "\n",
        "#printing specific value at a nested list\n",
        "mylist=[\"University\",[10,20,30],\"Dept\",\"Std Name\"]\n",
        "print(mylist[1][2]) #30\n",
        "\n",
        "#printing specific value at a dictionary\n",
        "print(d1[\"info\"][2])  #Jubayer"
      ]
    }
  ]
}