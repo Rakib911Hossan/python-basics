{
  "nbformat": 4,
  "nbformat_minor": 0,
  "metadata": {
    "colab": {
      "provenance": [],
      "authorship_tag": "ABX9TyMKxf20fLTi2lQL9zWnYNqK",
      "include_colab_link": true
    },
    "kernelspec": {
      "name": "python3",
      "display_name": "Python 3"
    },
    "language_info": {
      "name": "python"
    }
  },
  "cells": [
    {
      "cell_type": "markdown",
      "metadata": {
        "id": "view-in-github",
        "colab_type": "text"
      },
      "source": [
        "<a href=\"https://colab.research.google.com/github/Rakib911Hossan/python-basics/blob/main/Directory.ipynb\" target=\"_parent\"><img src=\"https://colab.research.google.com/assets/colab-badge.svg\" alt=\"Open In Colab\"/></a>"
      ]
    },
    {
      "cell_type": "code",
      "execution_count": 1,
      "metadata": {
        "colab": {
          "base_uri": "https://localhost:8080/",
          "height": 110
        },
        "id": "_UBAluauWh7V",
        "outputId": "a767e21e-061b-415e-c473-8dc06bc72532"
      },
      "outputs": [
        {
          "output_type": "error",
          "ename": "SyntaxError",
          "evalue": "invalid syntax (<ipython-input-1-26749f720ecb>, line 1)",
          "traceback": [
            "\u001b[0;36m  File \u001b[0;32m\"<ipython-input-1-26749f720ecb>\"\u001b[0;36m, line \u001b[0;32m1\u001b[0m\n\u001b[0;31m    list creation\u001b[0m\n\u001b[0m         ^\u001b[0m\n\u001b[0;31mSyntaxError\u001b[0m\u001b[0;31m:\u001b[0m invalid syntax\n"
          ]
        }
      ],
      "source": [
        "list creation\n",
        "list1=[\"University\",\"Dept\",\"Std Name\"]\n",
        "list2=[\"JUST\",\"CSE\",\"Jubayer\"]\n",
        "list3=[1,2,3]\n",
        "\n",
        "#Dictionary creation\n",
        "d1=dict(ind=list3,title=list1,info=list2)\n",
        "\n",
        "#Copying a dictionary into another dictionary\n",
        "d2=d1\n",
        "print(d2)\n",
        "\n",
        "#printing the values of a specific key\n",
        "for i in d1[\"info\"]:\n",
        "    print(i)\n",
        "\n",
        "#printing the whole dictionary\n",
        "for i in d1:\n",
        "    print(\"Key:\",i)\n",
        "    for j in range(3):\n",
        "        print(\"Value:\",d1[i][j])\n",
        "\n",
        "#printing specific value at a nested list\n",
        "mylist=[\"University\",[10,20,30],\"Dept\",\"Std Name\"]\n",
        "print(mylist[1][2]) #30\n",
        "\n",
        "#printing specific value at a dictionary\n",
        "print(d1[\"info\"][2])  #Jubayer"
      ]
    }
  ]
}