{
  "nbformat": 4,
  "nbformat_minor": 0,
  "metadata": {
    "colab": {
      "provenance": [],
      "authorship_tag": "ABX9TyPbHTJlz7Zz44TdwCu8Dcs3",
      "include_colab_link": true
    },
    "kernelspec": {
      "name": "python3",
      "display_name": "Python 3"
    },
    "language_info": {
      "name": "python"
    }
  },
  "cells": [
    {
      "cell_type": "markdown",
      "metadata": {
        "id": "view-in-github",
        "colab_type": "text"
      },
      "source": [
        "<a href=\"https://colab.research.google.com/github/Rakib911Hossan/python-basics/blob/main/Lav_3.ipynb\" target=\"_parent\"><img src=\"https://colab.research.google.com/assets/colab-badge.svg\" alt=\"Open In Colab\"/></a>"
      ]
    },
    {
      "cell_type": "code",
      "execution_count": 11,
      "metadata": {
        "colab": {
          "base_uri": "https://localhost:8080/"
        },
        "id": "6YK00brMBsCN",
        "outputId": "70ec6b81-b3b8-4d92-b30f-16bf55245c65"
      },
      "outputs": [
        {
          "output_type": "stream",
          "name": "stdout",
          "text": [
            "Enter your weight: 75\n",
            "Enter your hight: 1.8\n",
            "the result of BMI:  23.148148148148145\n",
            "normal weight.\n"
          ]
        }
      ],
      "source": [
        "wieght = input(\"Enter your weight: \")\n",
        "hight = input(\"Enter your hight: \")\n",
        "bmi = int(wieght) / (float(hight) * float(hight))\n",
        "print(\"the result of BMI: \",bmi)\n",
        "if bmi < 18.5:\n",
        "    print(\" underweight.\")\n",
        "elif 18.5 <= bmi <= 25:\n",
        "    print(\"normal weight.\")\n",
        "elif 25 <= bmi < 30:\n",
        "    print(\"overweight.\")\n",
        "elif  bmi >= 30:\n",
        "    print(\"obese\")"
      ]
    },
    {
      "cell_type": "code",
      "source": [
        "num = int(input(\"Enter a number: \"))\n",
        "total = 0\n",
        "length = len(str(num))\n",
        "\n",
        "for i in range(length):\n",
        "    total += num % 10\n",
        "    num //= 10\n",
        "\n",
        "print(\"Sum of digits:\", total)\n"
      ],
      "metadata": {
        "id": "oc_m7Pt1DPEY",
        "colab": {
          "base_uri": "https://localhost:8080/"
        },
        "outputId": "a5864b67-8234-445e-b38c-cf23c77c84b6"
      },
      "execution_count": 17,
      "outputs": [
        {
          "output_type": "stream",
          "name": "stdout",
          "text": [
            "Enter a number: 1234\n",
            "Sum of digits: 10\n"
          ]
        }
      ]
    },
    {
      "cell_type": "code",
      "source": [
        "num = int(input(\"Enter a number: \"))\n",
        "factorial = 1\n",
        "\n",
        "for i in range(1, num + 1):\n",
        "    factorial *= i\n",
        "\n",
        "print(\"Factorial of\", num, \"is\", factorial)\n"
      ],
      "metadata": {
        "colab": {
          "base_uri": "https://localhost:8080/"
        },
        "id": "rQr5TvXFKKcb",
        "outputId": "c9e0e7cb-cd23-4712-9dfc-4dd20f43e5e3"
      },
      "execution_count": 16,
      "outputs": [
        {
          "output_type": "stream",
          "name": "stdout",
          "text": [
            "Enter a number: 4\n",
            "Factorial of 4 is 24\n"
          ]
        }
      ]
    },
    {
      "cell_type": "code",
      "source": [
        "list = [45,23,67,89,34]\n",
        "list.sort()\n",
        "print( \"second highest \",list[-1])\n"
      ],
      "metadata": {
        "colab": {
          "base_uri": "https://localhost:8080/"
        },
        "id": "Jvxo5Mi6KvtR",
        "outputId": "ae036853-cb20-4cbb-e8c9-ccd3d844f3d8"
      },
      "execution_count": 24,
      "outputs": [
        {
          "output_type": "stream",
          "name": "stdout",
          "text": [
            "second highest  89\n"
          ]
        }
      ]
    },
    {
      "cell_type": "code",
      "source": [
        "list = [11,11,23,4,4,22,45,23,67,67,89,34]\n",
        "list\n",
        "\n",
        "print( \"second highest \",set(list))\n"
      ],
      "metadata": {
        "colab": {
          "base_uri": "https://localhost:8080/"
        },
        "id": "8jhWBv24RHDC",
        "outputId": "cc1e850b-b2c8-4b07-f75e-b06b9b736d97"
      },
      "execution_count": 35,
      "outputs": [
        {
          "output_type": "stream",
          "name": "stdout",
          "text": [
            "second highest  {34, 67, 4, 11, 45, 22, 23, 89}\n"
          ]
        }
      ]
    },
    {
      "cell_type": "code",
      "source": [
        "def add(n1,n2):\n",
        "  return n1+n2\n",
        "def sub(n1,n2):\n",
        "  return n1-n2\n",
        "def multiply(n1,n2):\n",
        "  return n1*n2\n",
        "def divide(n1,n2):\n",
        "  return n1/n2\n",
        "n1 = int(input(\"Enter a number: \"))\n",
        "n2 =int(input(\"Enter a number: \"))\n",
        "Add = add(n1,n2)\n",
        "print(\"Addition: \",Add)\n",
        "Sub = sub(n1,n2)\n",
        "print(\"Sub: \",Sub)\n",
        "Multiply = multiply(n1,n2)\n",
        "print(\"Multiplication: \",Multiply)\n",
        "Divide = divide(n1,n2)\n",
        "print(\"Divide: \",Divide)"
      ],
      "metadata": {
        "colab": {
          "base_uri": "https://localhost:8080/"
        },
        "id": "9mHQfCMuUO1J",
        "outputId": "990a62bf-ba24-40a1-8321-621fc28b1d27"
      },
      "execution_count": 37,
      "outputs": [
        {
          "output_type": "stream",
          "name": "stdout",
          "text": [
            "Enter a number: 66\n",
            "Enter a number: 33\n",
            "Addition:  99\n",
            "Sub:  33\n",
            "Multiplication:  2178\n",
            "Divide:  2.0\n"
          ]
        }
      ]
    }
  ]
}